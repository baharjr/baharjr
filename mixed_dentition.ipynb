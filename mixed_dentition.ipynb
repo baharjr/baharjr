{
  "nbformat": 4,
  "nbformat_minor": 0,
  "metadata": {
    "colab": {
      "provenance": [],
      "mount_file_id": "1wX4zPm0t-MtmtF-cNPuJ9oqOoWJV5tFp",
      "authorship_tag": "ABX9TyO2eE/ZmPYgFKlcku3u+8+U",
      "include_colab_link": true
    },
    "kernelspec": {
      "name": "python3",
      "display_name": "Python 3"
    },
    "language_info": {
      "name": "python"
    }
  },
  "cells": [
    {
      "cell_type": "markdown",
      "metadata": {
        "id": "view-in-github",
        "colab_type": "text"
      },
      "source": [
        "<a href=\"https://colab.research.google.com/github/baharjr/baharjr/blob/main/mixed_dentition.ipynb\" target=\"_parent\"><img src=\"https://colab.research.google.com/assets/colab-badge.svg\" alt=\"Open In Colab\"/></a>"
      ]
    },
    {
      "cell_type": "code",
      "execution_count": 60,
      "metadata": {
        "colab": {
          "base_uri": "https://localhost:8080/"
        },
        "id": "Tf216qSqX9_b",
        "outputId": "cb0c1466-bd6d-4f0a-de82-c7bc9bd67827"
      },
      "outputs": [
        {
          "output_type": "stream",
          "name": "stdout",
          "text": [
            "Mounted at /content.drive\n"
          ]
        }
      ],
      "source": [
        "from google.colab import drive\n",
        "drive.mount('/content.drive')\n"
      ]
    },
    {
      "cell_type": "code",
      "source": [
        "from tensorflow.keras.utils import image_dataset_from_directory\n",
        "import pathlib, os"
      ],
      "metadata": {
        "id": "SBs-KT1ubNyP"
      },
      "execution_count": 61,
      "outputs": []
    },
    {
      "cell_type": "code",
      "source": [
        "base_dir= pathlib.Path('/content.drive/MyDrive/mixed_data')"
      ],
      "metadata": {
        "id": "qclmIN4QbUPM"
      },
      "execution_count": 62,
      "outputs": []
    },
    {
      "cell_type": "code",
      "source": [
        "import cv2\n",
        "from skimage.util import random_noise\n",
        "from keras.models import load_model\n",
        "from keras.preprocessing import image as pile\n",
        "import PIL"
      ],
      "metadata": {
        "id": "xI1Ii6cJcSor"
      },
      "execution_count": 63,
      "outputs": []
    },
    {
      "cell_type": "markdown",
      "source": [
        "import libraries"
      ],
      "metadata": {
        "id": "HM-G-BKNYLIj"
      }
    },
    {
      "cell_type": "code",
      "source": [
        "from keras import backend as K\n",
        "import tensorflow as tf\n",
        "from keras.preprocessing.image import ImageDataGenerator\n",
        "from keras.models import Sequential\n",
        "from keras.layers import Activation, Dropout, Flatten, Dense, Conv2D, MaxPooling2D\n",
        "from keras import backend as K\n",
        "from keras import regularizers\n",
        "import numpy as np\n",
        "from skimage import io \n",
        "from skimage.transform import rotate, AffineTransform, warp\n",
        "import matplotlib.pyplot as plt\n",
        "import random\n",
        "from skimage import img_as_ubyte\n",
        "import os\n",
        "import warnings\n",
        "warnings.filterwarnings('ignore')\n",
        "#importing tensorflow\n",
        "from sklearn.feature_extraction.text import CountVectorizer\n",
        "from tensorflow.keras.layers import Dense,Input,Conv2D,MaxPool2D,Activation,Dropout,Flatten,BatchNormalization\n",
        "from tensorflow.keras.models import Model\n",
        "import random as rn\n",
        "from tensorflow.keras import applications\n",
        "from tensorflow.keras import optimizers\n",
        "from tensorflow.keras.preprocessing.image import ImageDataGenerator\n",
        "from tensorflow.keras.callbacks import ModelCheckpoint, LearningRateScheduler, TensorBoard, EarlyStopping\n",
        "from tensorflow.keras.models import Model, Sequential"
      ],
      "metadata": {
        "id": "K34kGmnSYG40"
      },
      "execution_count": 64,
      "outputs": []
    },
    {
      "cell_type": "markdown",
      "source": [
        "Height and widths of the dataset"
      ],
      "metadata": {
        "id": "8sRZBY5mwtHe"
      }
    },
    {
      "cell_type": "code",
      "source": [
        "list_of_heights = []\n",
        "list_of_widths = []\n",
        "dir_path = \"/content.drive/MyDrive/mixed_data/train\"\n",
        "for i in os.listdir(dir_path):\n",
        "    for image in os.listdir(os.path.join(dir_path,i)):\n",
        "        img = cv2.imread(os.path.join(os.path.join(dir_path,i),image), cv2.IMREAD_UNCHANGED)\n",
        "        # Dimensions of image\n",
        "        shape = img.shape\n",
        "        list_of_heights.append(shape[0])\n",
        "        list_of_widths.append(shape[1])"
      ],
      "metadata": {
        "id": "2_UVcLrKwMy4"
      },
      "execution_count": 65,
      "outputs": []
    },
    {
      "cell_type": "code",
      "source": [
        "for i in os.listdir(dir_path):\n",
        "    print(\"No of Images in \",i,\" category is \",len(os.listdir(os.path.join(dir_path,i))))"
      ],
      "metadata": {
        "colab": {
          "base_uri": "https://localhost:8080/"
        },
        "id": "UulJj8Okw-HQ",
        "outputId": "20e2cf75-e0af-4824-c8f0-4a16aca81bfa"
      },
      "execution_count": 66,
      "outputs": [
        {
          "output_type": "stream",
          "name": "stdout",
          "text": [
            "No of Images in  adult  category is  112\n",
            "No of Images in  mixed  category is  106\n"
          ]
        }
      ]
    },
    {
      "cell_type": "code",
      "source": [
        "plt.hist(list_of_heights,bins=20)\n",
        "plt.xlim(0,900)\n",
        "plt.title('heights')"
      ],
      "metadata": {
        "colab": {
          "base_uri": "https://localhost:8080/",
          "height": 298
        },
        "id": "lZAZroOlxkLl",
        "outputId": "8e44c286-86ce-4644-e59e-4624af038dc9"
      },
      "execution_count": 67,
      "outputs": [
        {
          "output_type": "execute_result",
          "data": {
            "text/plain": [
              "Text(0.5, 1.0, 'heights')"
            ]
          },
          "metadata": {},
          "execution_count": 67
        },
        {
          "output_type": "display_data",
          "data": {
            "text/plain": [
              "<Figure size 432x288 with 1 Axes>"
            ],
            "image/png": "[encoded data removed]"
          },
          "metadata": {
            "needs_background": "light"
          }
        }
      ]
    },
    {
      "cell_type": "code",
      "source": [
        "plt.hist(list_of_widths,bins=20)\n",
        "plt.title('widths')\n",
        "plt.xlim(0,900)"
      ],
      "metadata": {
        "colab": {
          "base_uri": "https://localhost:8080/",
          "height": 298
        },
        "id": "uDvQmEUFxu7f",
        "outputId": "2539373f-56dd-41dd-ab4a-c5721f496ccd"
      },
      "execution_count": 68,
      "outputs": [
        {
          "output_type": "execute_result",
          "data": {
            "text/plain": [
              "(0.0, 900.0)"
            ]
          },
          "metadata": {},
          "execution_count": 68
        },
        {
          "output_type": "display_data",
          "data": {
            "text/plain": [
              "<Figure size 432x288 with 1 Axes>"
            ],
            "image/png": "[encoded data removed]"
          },
          "metadata": {
            "needs_background": "light"
          }
        }
      ]
    },
    {
      "cell_type": "code",
      "source": [
        "from tensorflow import keras\n",
        "from keras import layers\n",
        "cnn_base=keras.applications.vgg16.VGG16(\n",
        "    weights= 'imagenet',\n",
        "    include_top= False,\n",
        "    input_shape= (180,180,3))\n",
        "cnn_base.trainable= False\n",
        "cnn_base.summary()"
      ],
      "metadata": {
        "colab": {
          "base_uri": "https://localhost:8080/"
        },
        "id": "Pgpl5a-3Qi95",
        "outputId": "5bd6e287-dd08-4d50-ec72-68c859bbdbb1"
      },
      "execution_count": 69,
      "outputs": [
        {
          "output_type": "stream",
          "name": "stdout",
          "text": [
            "Model: \"vgg16\"\n",
            "_________________________________________________________________\n",
            " Layer (type)                Output Shape              Param #   \n",
            "=================================================================\n",
            " input_3 (InputLayer)        [(None, 180, 180, 3)]     0         \n",
            "                                                                 \n",
            " block1_conv1 (Conv2D)       (None, 180, 180, 64)      1792      \n",
            "                                                                 \n",
            " block1_conv2 (Conv2D)       (None, 180, 180, 64)      36928     \n",
            "                                                                 \n",
            " block1_pool (MaxPooling2D)  (None, 90, 90, 64)        0         \n",
            "                                                                 \n",
            " block2_conv1 (Conv2D)       (None, 90, 90, 128)       73856     \n",
            "                                                                 \n",
            " block2_conv2 (Conv2D)       (None, 90, 90, 128)       147584    \n",
            "                                                                 \n",
            " block2_pool (MaxPooling2D)  (None, 45, 45, 128)       0         \n",
            "                                                                 \n",
            " block3_conv1 (Conv2D)       (None, 45, 45, 256)       295168    \n",
            "                                                                 \n",
            " block3_conv2 (Conv2D)       (None, 45, 45, 256)       590080    \n",
            "                                                                 \n",
            " block3_conv3 (Conv2D)       (None, 45, 45, 256)       590080    \n",
            "                                                                 \n",
            " block3_pool (MaxPooling2D)  (None, 22, 22, 256)       0         \n",
            "                                                                 \n",
            " block4_conv1 (Conv2D)       (None, 22, 22, 512)       1180160   \n",
            "                                                                 \n",
            " block4_conv2 (Conv2D)       (None, 22, 22, 512)       2359808   \n",
            "                                                                 \n",
            " block4_conv3 (Conv2D)       (None, 22, 22, 512)       2359808   \n",
            "                                                                 \n",
            " block4_pool (MaxPooling2D)  (None, 11, 11, 512)       0         \n",
            "                                                                 \n",
            " block5_conv1 (Conv2D)       (None, 11, 11, 512)       2359808   \n",
            "                                                                 \n",
            " block5_conv2 (Conv2D)       (None, 11, 11, 512)       2359808   \n",
            "                                                                 \n",
            " block5_conv3 (Conv2D)       (None, 11, 11, 512)       2359808   \n",
            "                                                                 \n",
            " block5_pool (MaxPooling2D)  (None, 5, 5, 512)         0         \n",
            "                                                                 \n",
            "=================================================================\n",
            "Total params: 14,714,688\n",
            "Trainable params: 0\n",
            "Non-trainable params: 14,714,688\n",
            "_________________________________________________________________\n"
          ]
        }
      ]
    },
    {
      "cell_type": "code",
      "source": [
        "data_augmentation= keras.Sequential(\n",
        "    [layers.RandomFlip('horizontal'),\n",
        "    layers.RandomRotation(0.2),\n",
        "    layers.RandomZoom(0.3)])"
      ],
      "metadata": {
        "id": "hri08Xk2RB4h"
      },
      "execution_count": 70,
      "outputs": []
    },
    {
      "cell_type": "code",
      "source": [
        "model = Sequential()\n",
        "model.add(Conv2D(32, kernel_size=(3, 3),\n",
        "                 activation='relu',\n",
        "                 input_shape=(150, 150, 3)))\n",
        "\n",
        "model.add(Conv2D(64, (3, 3), activation='relu'))\n",
        "model.add(MaxPooling2D(pool_size=(2, 2)))\n",
        "\n",
        "model.add(Dropout(0.25))\n",
        "model.add(Flatten())\n",
        "model.add(Dense(128, activation='relu'))\n",
        "\n",
        "model.add(Dropout(0.5))\n",
        "\n",
        "model.add(Dense(1))\n",
        "model.add(Activation('sigmoid'))\n",
        "  \n",
        "model.compile(loss='binary_crossentropy',optimizer=optimizers.Adam(learning_rate=0.1), metrics=['accuracy'])"
      ],
      "metadata": {
        "id": "a2mNdlpLy511"
      },
      "execution_count": 71,
      "outputs": []
    },
    {
      "cell_type": "code",
      "source": [
        "from tensorflow.keras.utils import plot_model\n",
        "plot_model(model)"
      ],
      "metadata": {
        "colab": {
          "base_uri": "https://localhost:8080/",
          "height": 953
        },
        "id": "8Jh17MxczaY4",
        "outputId": "97b21c63-c940-45f0-9ca8-340252d4bdbc"
      },
      "execution_count": 72,
      "outputs": [
        {
          "output_type": "execute_result",
          "data": {
            "image/png": "[encoded data removed]",
            "text/plain": [
              "<IPython.core.display.Image object>"
            ]
          },
          "metadata": {},
          "execution_count": 72
        }
      ]
    },
    {
      "cell_type": "code",
      "source": [
        "image_shape=(150, 150, 3)\n",
        "image_gen = ImageDataGenerator(rescale=1/255)\n",
        "train_image_gen=image_gen.flow_from_directory('/content.drive/MyDrive/mixed_data/train',\n",
        "                                             target_size=image_shape[:2],\n",
        "                                             batch_size=1,\n",
        "                                             class_mode='binary')\n",
        "\n",
        "\n",
        "test_image_gen=image_gen.flow_from_directory('/content.drive/MyDrive/mixed_data/test',\n",
        "                                             target_size=image_shape[:2],\n",
        "                                             batch_size=1,\n",
        "                                             class_mode='binary',\n",
        "                                             seed=123#To help Visualize the results\n",
        "                                             )"
      ],
      "metadata": {
        "colab": {
          "base_uri": "https://localhost:8080/"
        },
        "id": "nnJsaiVBzc-m",
        "outputId": "209134bc-ab4c-4c32-e7e1-c596e598b680"
      },
      "execution_count": 73,
      "outputs": [
        {
          "output_type": "stream",
          "name": "stdout",
          "text": [
            "Found 218 images belonging to 2 classes.\n",
            "Found 223 images belonging to 2 classes.\n"
          ]
        }
      ]
    },
    {
      "cell_type": "code",
      "source": [
        "history =model.fit(train_image_gen,\n",
        "                   epochs=20,)"
      ],
      "metadata": {
        "colab": {
          "base_uri": "https://localhost:8080/"
        },
        "id": "GW5yNFMD0Ndb",
        "outputId": "7c5e5513-2cfc-402a-8884-fd0987fd0f73"
      },
      "execution_count": 74,
      "outputs": [
        {
          "output_type": "stream",
          "name": "stdout",
          "text": [
            "Epoch 1/20\n",
            "218/218 [==============================] - 52s 225ms/step - loss: 7082.9634 - accuracy: 0.4908\n",
            "Epoch 2/20\n",
            "218/218 [==============================] - 47s 215ms/step - loss: 0.7122 - accuracy: 0.4771\n",
            "Epoch 3/20\n",
            "218/218 [==============================] - 48s 220ms/step - loss: 0.7108 - accuracy: 0.4771\n",
            "Epoch 4/20\n",
            "218/218 [==============================] - 45s 209ms/step - loss: 0.7040 - accuracy: 0.5046\n",
            "Epoch 5/20\n",
            "218/218 [==============================] - 41s 187ms/step - loss: 0.7108 - accuracy: 0.4725\n",
            "Epoch 6/20\n",
            "218/218 [==============================] - 42s 190ms/step - loss: 0.7157 - accuracy: 0.4450\n",
            "Epoch 7/20\n",
            "218/218 [==============================] - 45s 206ms/step - loss: 0.7136 - accuracy: 0.4862\n",
            "Epoch 8/20\n",
            "218/218 [==============================] - 52s 238ms/step - loss: 0.7048 - accuracy: 0.5138\n",
            "Epoch 9/20\n",
            "218/218 [==============================] - 46s 213ms/step - loss: 0.7184 - accuracy: 0.4817\n",
            "Epoch 10/20\n",
            "218/218 [==============================] - 49s 223ms/step - loss: 0.7028 - accuracy: 0.5183\n",
            "Epoch 11/20\n",
            "218/218 [==============================] - 47s 214ms/step - loss: 0.6972 - accuracy: 0.5642\n",
            "Epoch 12/20\n",
            "218/218 [==============================] - 45s 206ms/step - loss: 0.6995 - accuracy: 0.5321\n",
            "Epoch 13/20\n",
            "218/218 [==============================] - 46s 212ms/step - loss: 0.7111 - accuracy: 0.4541\n",
            "Epoch 14/20\n",
            "218/218 [==============================] - 43s 199ms/step - loss: 0.7071 - accuracy: 0.5046\n",
            "Epoch 15/20\n",
            "218/218 [==============================] - 42s 194ms/step - loss: 0.7076 - accuracy: 0.4495\n",
            "Epoch 16/20\n",
            "218/218 [==============================] - 43s 195ms/step - loss: 0.7124 - accuracy: 0.3945\n",
            "Epoch 17/20\n",
            "218/218 [==============================] - 44s 202ms/step - loss: 0.7042 - accuracy: 0.5000\n",
            "Epoch 18/20\n",
            "218/218 [==============================] - 46s 212ms/step - loss: 0.7038 - accuracy: 0.4725\n",
            "Epoch 19/20\n",
            "218/218 [==============================] - 45s 205ms/step - loss: 0.6999 - accuracy: 0.5229\n",
            "Epoch 20/20\n",
            "218/218 [==============================] - 43s 197ms/step - loss: 0.7150 - accuracy: 0.4495\n"
          ]
        }
      ]
    },
    {
      "cell_type": "code",
      "source": [
        "model.evaluate(test_image_gen)"
      ],
      "metadata": {
        "colab": {
          "base_uri": "https://localhost:8080/"
        },
        "id": "XGdqcN-b3ykk",
        "outputId": "ba9db379-9ac9-4349-b6fa-029cbf8d9dd1"
      },
      "execution_count": 75,
      "outputs": [
        {
          "output_type": "stream",
          "name": "stdout",
          "text": [
            "223/223 [==============================] - 62s 278ms/step - loss: 0.7098 - accuracy: 0.4664\n"
          ]
        },
        {
          "output_type": "execute_result",
          "data": {
            "text/plain": [
              "[0.7098166346549988, 0.4663677215576172]"
            ]
          },
          "metadata": {},
          "execution_count": 75
        }
      ]
    },
    {
      "cell_type": "code",
      "source": [
        "plt.plot(history.history['accuracy'])\n",
        "plt.title('Model Accuracy')\n",
        "plt.ylabel('accuracy')\n",
        "plt.xlabel('epoch')\n",
        "plt.legend(['Train', 'Validation'])\n",
        "plt.show()"
      ],
      "metadata": {
        "colab": {
          "base_uri": "https://localhost:8080/",
          "height": 295
        },
        "id": "ur5H1NDr395y",
        "outputId": "c7cb3d7b-b697-4567-bfab-4aed95a95b4a"
      },
      "execution_count": 76,
      "outputs": [
        {
          "output_type": "display_data",
          "data": {
            "text/plain": [
              "<Figure size 432x288 with 1 Axes>"
            ],
            "image/png": "[encoded data removed]"
          },
          "metadata": {
            "needs_background": "light"
          }
        }
      ]
    },
    {
      "cell_type": "code",
      "source": [
        "plt.plot(history.history['loss'])\n",
        "plt.ylabel('loss')\n",
        "plt.xlabel('epoch')\n",
        "plt.legend(['Train', 'Validation'])\n",
        "plt.show()"
      ],
      "metadata": {
        "colab": {
          "base_uri": "https://localhost:8080/",
          "height": 279
        },
        "id": "ZOZ3MJhm4Ayb",
        "outputId": "c806e5f8-8ad5-40e6-82a3-897f579338aa"
      },
      "execution_count": 77,
      "outputs": [
        {
          "output_type": "display_data",
          "data": {
            "text/plain": [
              "<Figure size 432x288 with 1 Axes>"
            ],
            "image/png": "[encoded data removed]"
          },
          "metadata": {
            "needs_background": "light"
          }
        }
      ]
    }
  ]
}